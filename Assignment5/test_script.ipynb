{
 "cells": [
  {
   "cell_type": "code",
   "execution_count": 1,
   "metadata": {
    "collapsed": true
   },
   "outputs": [],
   "source": [
    "import pandas as pd\n",
    "import numpy as np"
   ]
  },
  {
   "cell_type": "code",
   "execution_count": 2,
   "metadata": {
    "collapsed": true
   },
   "outputs": [],
   "source": [
    "df = pd.read_csv(\"adult.data.csv\",header=None)\n",
    "df.columns = ['age', 'workclass', 'fnlwgt', 'education', 'education.num',\n",
    "       'marital.status', 'occupation', 'relationship', 'race', 'sex',\n",
    "       'capital.gain', 'capital.loss', 'hours.per.week', 'native.country',\n",
    "       'income']\n",
    "test_df =  pd.read_csv(\"adult.test.csv\",header=None)\n",
    "test_df.columns = df.columns"
   ]
  },
  {
   "cell_type": "code",
   "execution_count": 3,
   "metadata": {
    "collapsed": true
   },
   "outputs": [],
   "source": [
    "#drop unknown data\n",
    "df = df[(df.workclass != '?')]\n",
    "df = df[(df['native.country'] != '?')]\n",
    "df = df[(df.occupation != '?')]\n",
    "\n",
    "#drop unknown data\n",
    "test_df = test_df[(test_df.workclass != '?')]\n",
    "test_df = test_df[(test_df['native.country'] != '?')]\n",
    "test_df = test_df[(test_df.occupation != '?')]"
   ]
  },
  {
   "cell_type": "code",
   "execution_count": 4,
   "metadata": {
    "collapsed": true
   },
   "outputs": [],
   "source": [
    "from sklearn import preprocessing\n",
    "\n",
    "workclass_le = preprocessing.LabelEncoder()\n",
    "workclass_le.fit(df['workclass'])\n",
    "df['workclass'] = workclass_le.transform(df['workclass'])\n",
    "test_df['workclass'] = workclass_le.transform(test_df['workclass'])\n",
    "\n",
    "education_le = preprocessing.LabelEncoder()\n",
    "education_le.fit(df['education'])\n",
    "df['education'] = education_le.transform(df['education'])\n",
    "test_df['education'] = education_le.transform(test_df['education'])\n",
    "\n",
    "marital_le = preprocessing.LabelEncoder()\n",
    "marital_le.fit(df['marital.status'])\n",
    "df['marital.status'] = marital_le.transform(df['marital.status'])\n",
    "test_df['marital.status'] = marital_le.transform(test_df['marital.status'])\n",
    "\n",
    "occupation_le = preprocessing.LabelEncoder()\n",
    "occupation_le.fit(df['occupation'])\n",
    "df['occupation'] = occupation_le.transform(df['occupation'])\n",
    "test_df['occupation'] = occupation_le.transform(test_df['occupation'])\n",
    "\n",
    "relation_le = preprocessing.LabelEncoder()\n",
    "relation_le.fit(df['relationship'])\n",
    "df['relationship'] = relation_le.transform(df['relationship'])\n",
    "test_df['relationship'] = relation_le.transform(test_df['relationship'])\n",
    "\n",
    "race_le = preprocessing.LabelEncoder()\n",
    "race_le.fit(df['race'])\n",
    "df['race'] = race_le.transform(df['race'])\n",
    "test_df['race'] = race_le.transform(test_df['race'])\n",
    "\n",
    "sex_le = preprocessing.LabelEncoder()\n",
    "sex_le.fit(df['sex'])\n",
    "df['sex'] = sex_le.transform(df['sex'])\n",
    "test_df['sex'] = sex_le.transform(test_df['sex'])\n",
    "\n",
    "native_le = preprocessing.LabelEncoder()\n",
    "native_le.fit(df['native.country'])\n",
    "df['native.country'] = native_le.transform(df['native.country'])\n",
    "test_df['native.country'] = native_le.transform(test_df['native.country'])\n",
    "\n",
    "income_le = preprocessing.LabelEncoder()\n",
    "income_le.fit(df['income'])\n",
    "df['income'] = income_le.transform(df['income'])\n",
    "\n",
    "income_le_test = preprocessing.LabelEncoder()\n",
    "income_le_test.fit(test_df['income'])\n",
    "test_df['income'] = income_le_test.transform(test_df['income'])"
   ]
  },
  {
   "cell_type": "code",
   "execution_count": 5,
   "metadata": {
    "collapsed": true
   },
   "outputs": [],
   "source": [
    "df['age_trans'] = pd.cut(df['age'],3,labels=np.array([0,1,2]))\n",
    "df['hours.per.week_trans'] = pd.cut(df['hours.per.week'],3,labels=np.array([0,1,2]))\n",
    "df['fnlwgt_trans'] = pd.cut(df['fnlwgt'],3,labels=np.array([0,1,2]))\n",
    "df['capital.gain_trans'] = pd.cut(df['capital.gain'],3,labels=np.array([0,1,2]))\n",
    "df['capital.loss_trans'] = pd.cut(df['capital.loss'],3,labels=np.array([0,1,2]))"
   ]
  },
  {
   "cell_type": "code",
   "execution_count": 6,
   "metadata": {
    "collapsed": true
   },
   "outputs": [],
   "source": [
    "series_age,bin_age = pd.cut(df['age'],3,labels=False,retbins=True)\n",
    "series_hpw,bin_hpw = pd.cut(df['hours.per.week'],3,labels=False, retbins=True)\n",
    "series_fnlwgt,bin_fnlwgt = pd.cut(df['fnlwgt'],3,labels=False, retbins=True)\n",
    "series_capital_gain,bin_capital_gain = pd.cut(df['capital.gain'],3,labels=False, retbins=True)\n",
    "series_capital_loss,bin_capital_loss = pd.cut(df['capital.loss'],3,labels=False, retbins=True)"
   ]
  },
  {
   "cell_type": "code",
   "execution_count": 7,
   "metadata": {
    "collapsed": true
   },
   "outputs": [],
   "source": [
    "test_df['age_trans'] = pd.cut(test_df['age'],bins=bin_age,labels=np.array([0,1,2]))\n",
    "test_df['hours.per.week_trans'] = pd.cut(test_df['hours.per.week'],bins=bin_hpw,labels=np.array([0,1,2]))\n",
    "test_df['fnlwgt_trans'] = pd.cut(test_df['fnlwgt'],bins=bin_fnlwgt,labels=np.array([0,1,2]))\n",
    "test_df['capital.gain_trans'] = pd.cut(test_df['capital.gain'],bins=bin_capital_gain,labels=np.array([0,1,2]))\n",
    "test_df['capital.loss_trans'] = pd.cut(test_df['capital.loss'],bins=bin_capital_loss,labels=np.array([0,1,2]))"
   ]
  },
  {
   "cell_type": "code",
   "execution_count": 8,
   "metadata": {
    "collapsed": true
   },
   "outputs": [],
   "source": [
    "Y_train = df.iloc[:,-1]\n",
    "Y_test = test_df.iloc[:,-1]\n",
    "X_train = df[['age_trans', 'workclass', 'fnlwgt_trans', 'education', 'education.num',\n",
    "       'marital.status', 'occupation', 'relationship', 'race', 'sex',\n",
    "       'capital.gain_trans', 'capital.loss_trans', 'hours.per.week_trans', 'native.country']]\n",
    "X_test = df[['age_trans', 'workclass', 'fnlwgt_trans', 'education', 'education.num',\n",
    "       'marital.status', 'occupation', 'relationship', 'race', 'sex',\n",
    "       'capital.gain_trans', 'capital.loss_trans', 'hours.per.week_trans', 'native.country']]"
   ]
  },
  {
   "cell_type": "code",
   "execution_count": null,
   "metadata": {
    "collapsed": true
   },
   "outputs": [],
   "source": [
    "def accuracy_score(labels, hypotheses):\n",
    "    count = 0.0\n",
    "    correct = 0.0\n",
    "\n",
    "    for l, h in zip(labels, hypotheses):\n",
    "        count += 1.0\n",
    "        if l == h:\n",
    "            correct += 1.0\n",
    "    return correct / count"
   ]
  },
  {
   "cell_type": "code",
   "execution_count": 19,
   "metadata": {},
   "outputs": [],
   "source": [
    "from randomforest import random_forest\n",
    "\n",
    "clf = random_forest(max_depth=5)\n",
    "clf.fit(X_train,Y_train)\n",
    "hypothesis = clf.predict(X_test)\n",
    "print(\"Accuracy Score: %.4f\" %accuracy_score(Y_test,hyp))"
   ]
  },
  {
   "cell_type": "code",
   "execution_count": 20,
   "metadata": {},
   "outputs": [],
   "source": []
  },
  {
   "cell_type": "code",
   "execution_count": 22,
   "metadata": {},
   "outputs": [
    {
     "data": {
      "text/plain": [
       "0.8235980590872797"
      ]
     },
     "execution_count": 22,
     "metadata": {},
     "output_type": "execute_result"
    }
   ],
   "source": []
  },
  {
   "cell_type": "code",
   "execution_count": null,
   "metadata": {
    "collapsed": true
   },
   "outputs": [],
   "source": []
  }
 ],
 "metadata": {
  "kernelspec": {
   "display_name": "Python 3",
   "language": "python",
   "name": "python3"
  },
  "language_info": {
   "codemirror_mode": {
    "name": "ipython",
    "version": 3
   },
   "file_extension": ".py",
   "mimetype": "text/x-python",
   "name": "python",
   "nbconvert_exporter": "python",
   "pygments_lexer": "ipython3",
   "version": "3.6.5"
  }
 },
 "nbformat": 4,
 "nbformat_minor": 2
}
