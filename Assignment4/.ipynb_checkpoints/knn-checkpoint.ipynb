{
 "cells": [
  {
   "cell_type": "code",
   "execution_count": 337,
   "metadata": {
    "collapsed": true
   },
   "outputs": [],
   "source": [
    "from classifier import classifier"
   ]
  },
  {
   "cell_type": "code",
   "execution_count": 404,
   "metadata": {},
   "outputs": [],
   "source": [
    "def loadData(fileName):\n",
    "    import arff\n",
    "    \n",
    "    data = arff.load(open(fileName))\n",
    "    attributes = [t[0] for t in data['attributes']]\n",
    "    df=pd.DataFrame(data['data'],columns=attributes).astype('int64')\n",
    "    X_train = df[:int((len(df)+1)*.80-1)].iloc[:,:-1]\n",
    "    Y_train = df[:int((len(df)+1)*.80-1)]['Result']\n",
    "    X_test = df[int(len(df)*.80):].iloc[:,:-1]\n",
    "    y_test = df[int(len(df)*.80):]['Result']\n",
    "    return X_train,Y_train,X_test,y_test"
   ]
  },
  {
   "cell_type": "code",
   "execution_count": 405,
   "metadata": {},
   "outputs": [],
   "source": [
    "X_train,Y_train,X_test,y_test=loadData('PhishingData.arff')"
   ]
  },
  {
   "cell_type": "code",
   "execution_count": 414,
   "metadata": {},
   "outputs": [],
   "source": [
    "class KNN(classifier):\n",
    "    \n",
    "    def __init__(self, k=3):\n",
    "        #Default k =3\n",
    "        self.X_train = None\n",
    "        self.y_train = None\n",
    "        \n",
    "    def fit(self, X, Y): \n",
    "        self.X_train = X\n",
    "        self.y_train = Y\n",
    "        return\n",
    "        \n",
    "    def predict(self, X, k):\n",
    "        import numpy as np\n",
    "        from collections import Counter\n",
    "        distances = []\n",
    "        predict = []\n",
    "        for j in range(len(X)):\n",
    "            for i in range(len(self.X_train)):\n",
    "                euclideanDistance = np.linalg.norm(np.array(self.X_train.iloc[i,:])-np.array(X.iloc[j]))\n",
    "                distances.append([euclideanDistance,i])\n",
    "            distances = sorted(distances)\n",
    "            voters = []        \n",
    "            for i in range(k):\n",
    "                index = distances[i][1]\n",
    "                voters.append(self.y_train.iloc[index])\n",
    "            predict.append(Counter(voters).most_common(1)[0][0])\n",
    "        return predict\n",
    "    \n",
    "    def accuracy(self,y_test,prediction):\n",
    "        correct = 0\n",
    "        for x in range(len(y_test)):\n",
    "            if y_test.iloc[x] == prediction[x]:\n",
    "                correct += 1\n",
    "        return correct/float(len(y_test))"
   ]
  },
  {
   "cell_type": "code",
   "execution_count": 415,
   "metadata": {},
   "outputs": [
    {
     "name": "stdout",
     "output_type": "stream",
     "text": [
      "K= 2  Accuracy= 0.0\n"
     ]
    }
   ],
   "source": [
    "clf = KNN()     \n",
    "clf.fit(X_train,Y_train)\n",
    "i=2\n",
    "predict=clf.predict(X_test,k=i)\n",
    "acc = clf.accuracy(y_test,predict)\n",
    "print(\"K=\",i,\" Accuracy=\", acc)\n",
    "# for i in range(2,12):\n",
    "#     predict=clf.predict(X_test,k=i)\n",
    "#     acc = clf.accuracy(y_test,predict)\n",
    "#     print(\"K=\",i,\" Accuracy=\", acc)"
   ]
  },
  {
   "cell_type": "code",
   "execution_count": null,
   "metadata": {},
   "outputs": [],
   "source": []
  }
 ],
 "metadata": {
  "kernelspec": {
   "display_name": "Python 3",
   "language": "python",
   "name": "python3"
  },
  "language_info": {
   "codemirror_mode": {
    "name": "ipython",
    "version": 3
   },
   "file_extension": ".py",
   "mimetype": "text/x-python",
   "name": "python",
   "nbconvert_exporter": "python",
   "pygments_lexer": "ipython3",
   "version": "3.6.3"
  }
 },
 "nbformat": 4,
 "nbformat_minor": 2
}
