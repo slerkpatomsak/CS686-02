{
 "cells": [
  {
   "cell_type": "code",
   "execution_count": 844,
   "metadata": {
    "collapsed": true
   },
   "outputs": [],
   "source": [
    "def loadData(fileName):\n",
    "    import arff\n",
    "    from sklearn.model_selection import train_test_split\n",
    "    \n",
    "    data = arff.load(open(fileName))\n",
    "    attributes = [t[0] for t in data['attributes']]\n",
    "    df=pd.DataFrame(data['data'],columns=attributes).astype('int')\n",
    "    X = df.iloc[:,:-1]\n",
    "    y = df['Result']\n",
    "    X_train, X_test, y_train, y_test = train_test_split(X, y, test_size=0.2, random_state=96) #96\n",
    "    return X_train, X_test, y_train, y_test"
   ]
  },
  {
   "cell_type": "code",
   "execution_count": 845,
   "metadata": {
    "collapsed": true
   },
   "outputs": [],
   "source": [
    "X_train, X_test, y_train, y_test=loadData('PhishingData.arff')"
   ]
  },
  {
   "cell_type": "code",
   "execution_count": 846,
   "metadata": {
    "collapsed": true
   },
   "outputs": [],
   "source": [
    "from knn import KNN"
   ]
  },
  {
   "cell_type": "code",
   "execution_count": 847,
   "metadata": {
    "collapsed": true
   },
   "outputs": [],
   "source": [
    "clf = KNN()     \n",
    "clf.fit(X_train,y_train)"
   ]
  },
  {
   "cell_type": "code",
   "execution_count": null,
   "metadata": {},
   "outputs": [
    {
     "name": "stdout",
     "output_type": "stream",
     "text": [
      "K=2  Accuracy= 0.856089 \n",
      "K=3  Accuracy= 0.870849 \n",
      "K=4  Accuracy= 0.870849 \n",
      "K=5  Accuracy= 0.870849 \n",
      "K=6  Accuracy= 0.863469 \n",
      "K=7  Accuracy= 0.870849 \n",
      "K=8  Accuracy= 0.867159 \n",
      "K=9  Accuracy= 0.874539 \n",
      "K=10  Accuracy= 0.874539 \n",
      "K=11  Accuracy= 0.881919 \n"
     ]
    }
   ],
   "source": [
    "from sklearn.metrics import accuracy_score\n",
    "\n",
    "for i in range(2,13):\n",
    "    predict = clf.predict(X_test, i)\n",
    "    print(\"K=%d  Accuracy= %f \" % (i, accuracy_score(y_test,predict)))"
   ]
  },
  {
   "cell_type": "code",
   "execution_count": null,
   "metadata": {
    "collapsed": true
   },
   "outputs": [],
   "source": []
  }
 ],
 "metadata": {
  "kernelspec": {
   "display_name": "Python 3",
   "language": "python",
   "name": "python3"
  },
  "language_info": {
   "codemirror_mode": {
    "name": "ipython",
    "version": 3
   },
   "file_extension": ".py",
   "mimetype": "text/x-python",
   "name": "python",
   "nbconvert_exporter": "python",
   "pygments_lexer": "ipython3",
   "version": "3.6.3"
  }
 },
 "nbformat": 4,
 "nbformat_minor": 2
}
