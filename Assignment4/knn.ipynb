{
 "cells": [
  {
   "cell_type": "code",
   "execution_count": 465,
   "metadata": {
    "collapsed": true
   },
   "outputs": [],
   "source": [
    "from classifier import classifier\n",
    "from kn"
   ]
  },
  {
   "cell_type": "code",
   "execution_count": 466,
   "metadata": {},
   "outputs": [],
   "source": [
    "def loadData(fileName):\n",
    "    import arff\n",
    "    \n",
    "    data = arff.load(open(fileName))\n",
    "    attributes = [t[0] for t in data['attributes']]\n",
    "    df=pd.DataFrame(data['data'],columns=attributes).astype('int64')\n",
    "    X_train = df[:int((len(df)+1)*.80-1)].iloc[:,:-1]\n",
    "    Y_train = df[:int((len(df)+1)*.80-1)]['Result']\n",
    "    X_test = df[int(len(df)*.80):].iloc[:,:-1]\n",
    "    y_test = df[int(len(df)*.80):]['Result']\n",
    "    return X_train,Y_train,X_test,y_test\n",
    "\n",
    "def accuracy(y_test,prediction):\n",
    "    correct = 0\n",
    "    for x in range(len(y_test)):\n",
    "        if y_test.iloc[x] == prediction[x]:\n",
    "            correct += 1\n",
    "    return correct/float(len(y_test))"
   ]
  },
  {
   "cell_type": "code",
   "execution_count": 467,
   "metadata": {},
   "outputs": [],
   "source": [
    "X_train,Y_train,X_test,y_test=loadData('PhishingData.arff')"
   ]
  },
  {
   "cell_type": "code",
   "execution_count": 593,
   "metadata": {},
   "outputs": [],
   "source": [
    "class KNN(classifier):\n",
    "    \n",
    "    def __init__(self, k=3):\n",
    "        self.X_train = None\n",
    "        self.y_train = None\n",
    "        \n",
    "    def fit(self, X, Y): \n",
    "        self.X_train = X\n",
    "        self.y_train = Y\n",
    "        return\n",
    "        \n",
    "    def predict(self, X, k):\n",
    "        import numpy as np\n",
    "        from collections import Counter\n",
    "       \n",
    "        distances = []\n",
    "        predict = []\n",
    "        for x in range(len(X)):\n",
    "            for i in range(len(self.X_train)):\n",
    "                distance = np.linalg.norm(np.array(X.iloc[x])-np.array(self.X_train.iloc[i]))\n",
    "                distances.append([distance,i])\n",
    "#                 distance = self.euclideanDistance(X.iloc[x], self.X_train.iloc[i])\n",
    "#             distances = sorted(distances)\n",
    "            voters = [i[1] for i in sorted(distances)[:k]]\n",
    "#             voters = []        \n",
    "#             for i in range(k):\n",
    "#                     index = distances[i][1]\n",
    "#                     voters.append(self.y_train.iloc[index])\n",
    "            predict.append(Counter(voters).most_common(1)[0][0])\n",
    "        return predict\n",
    "#     def euclideanDistance(self,instance1, instance2): \n",
    "#         import math\n",
    "#         distance = 0\n",
    "#         for x in range(len(instance1)):\n",
    "#             distance += math.pow((instance1.iloc[x] - instance2.iloc[x]), 2)\n",
    "#         return math.sqrt(distance)"
   ]
  },
  {
   "cell_type": "code",
   "execution_count": 588,
   "metadata": {},
   "outputs": [],
   "source": [
    "clf = KNN()     \n",
    "clf.fit(X_train,Y_train)"
   ]
  },
  {
   "cell_type": "code",
   "execution_count": null,
   "metadata": {},
   "outputs": [
    {
     "name": "stdout",
     "output_type": "stream",
     "text": [
      "K= 2  Accuracy= 0.36531365313653136\n",
      "K= 3  Accuracy= 0.44280442804428044\n",
      "K= 4  Accuracy= 0.4354243542435424\n"
     ]
    }
   ],
   "source": [
    "for i in range(2,6):\n",
    "    predict=clf.predict(X_test,k=i)\n",
    "    acc = accuracy(y_test,predict)\n",
    "    print(\"K=\",i,\" Accuracy=\", acc)"
   ]
  }
 ],
 "metadata": {
  "kernelspec": {
   "display_name": "Python 3",
   "language": "python",
   "name": "python3"
  },
  "language_info": {
   "codemirror_mode": {
    "name": "ipython",
    "version": 3
   },
   "file_extension": ".py",
   "mimetype": "text/x-python",
   "name": "python",
   "nbconvert_exporter": "python",
   "pygments_lexer": "ipython3",
   "version": "3.6.3"
  }
 },
 "nbformat": 4,
 "nbformat_minor": 2
}
