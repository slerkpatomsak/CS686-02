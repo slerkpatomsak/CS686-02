{
 "cells": [
  {
   "cell_type": "code",
   "execution_count": 63,
   "metadata": {
    "collapsed": true
   },
   "outputs": [],
   "source": [
    "import pandas as pd\n",
    "from decision_tree import decision_tree"
   ]
  },
  {
   "cell_type": "code",
   "execution_count": 64,
   "metadata": {
    "collapsed": true
   },
   "outputs": [],
   "source": [
    "def accuracy_score(labels, hypotheses):\n",
    "    count = 0.0\n",
    "    correct = 0.0\n",
    "\n",
    "    for l, h in zip(labels, hypotheses):\n",
    "        count += 1.0\n",
    "        if l == h:\n",
    "            correct += 1.0\n",
    "    return correct / count"
   ]
  },
  {
   "cell_type": "code",
   "execution_count": 65,
   "metadata": {
    "collapsed": true
   },
   "outputs": [],
   "source": [
    "data = pd.read_csv('zoo.csv')\n",
    "X = data.iloc[:,1:-1]\n",
    "y = data.iloc[:,-1]"
   ]
  },
  {
   "cell_type": "code",
   "execution_count": 67,
   "metadata": {
    "collapsed": true
   },
   "outputs": [],
   "source": [
    "from sklearn.model_selection import train_test_split\n",
    "\n",
    "X_train, X_test, y_train, y_test = train_test_split(X,y,test_size=0.33)"
   ]
  },
  {
   "cell_type": "code",
   "execution_count": 68,
   "metadata": {},
   "outputs": [
    {
     "name": "stdout",
     "output_type": "stream",
     "text": [
      "Accuracy of entropy: 0.9412\n"
     ]
    }
   ],
   "source": [
    "clf = decision_tree(criterion='entropy')\n",
    "predictted = clf.fit(X_train.values.tolist(),y_train.values.tolist())\n",
    "hypothesis = clf.predict(X_test.values.tolist())\n",
    "print(\"Accuracy of entropy: %.4f\" % accuracy_score(y_test,hypothesis))"
   ]
  },
  {
   "cell_type": "code",
   "execution_count": 69,
   "metadata": {},
   "outputs": [
    {
     "name": "stdout",
     "output_type": "stream",
     "text": [
      "Accuracy of gini: 0.9412\n"
     ]
    }
   ],
   "source": [
    "clf = decision_tree(criterion='gini')\n",
    "predictted = clf.fit(X_train.values.tolist(),y_train.values.tolist())\n",
    "hypothesis = clf.predict(X_test.values.tolist())\n",
    "print(\"Accuracy of gini: %.4f\" % accuracy_score(y_test,hypothesis))"
   ]
  }
 ],
 "metadata": {
  "kernelspec": {
   "display_name": "Python 3",
   "language": "python",
   "name": "python3"
  },
  "language_info": {
   "codemirror_mode": {
    "name": "ipython",
    "version": 3
   },
   "file_extension": ".py",
   "mimetype": "text/x-python",
   "name": "python",
   "nbconvert_exporter": "python",
   "pygments_lexer": "ipython3",
   "version": "3.6.3"
  }
 },
 "nbformat": 4,
 "nbformat_minor": 2
}
