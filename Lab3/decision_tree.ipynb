{
 "cells": [
  {
   "cell_type": "code",
   "execution_count": 7,
   "metadata": {},
   "outputs": [],
   "source": [
    "import pandas as pd"
   ]
  },
  {
   "cell_type": "code",
   "execution_count": 68,
   "metadata": {
    "collapsed": true
   },
   "outputs": [],
   "source": [
    "from classifier import classifier\n",
    "\n",
    "class decision_tree(classifier):\n",
    "\n",
    "    def __init__(self):\n",
    "        pass\n",
    "\n",
    "\n",
    "    def gini(self, Y):\n",
    "        size = len(Y)\n",
    "        counts = dict()\n",
    "        for y in Y:\n",
    "            if y not in counts:\n",
    "                counts[y] = 0.\n",
    "            counts[y] += 1.\n",
    "        gini = 0.\n",
    "        for key in counts:\n",
    "            prob = counts[key] / size\n",
    "            gini += prob * (1-prob)\n",
    "        return gini\n",
    "\n",
    "\n",
    "    def entropy(self, Y):\n",
    "        from math import log\n",
    "\n",
    "        size = len(Y)\n",
    "        counts = dict()\n",
    "        for y in Y:\n",
    "            if y not in counts:\n",
    "                counts[y] = 0.\n",
    "            counts[y] += 1.\n",
    "        entropy = 0.\n",
    "        for key in counts:\n",
    "            prob = counts[key] / size\n",
    "            entropy -= prob * log(prob,2)\n",
    "        return entropy\n",
    "\n",
    "\n",
    "    def split_data(self, X, Y, axis, value):\n",
    "        return_x = []\n",
    "        return_y = []\n",
    "\n",
    "        for x, y in (zip(X, Y)):\n",
    "            if x[axis] == value:\n",
    "                reduced_x = x[:axis]\n",
    "                reduced_x.extend(x[axis+1:])\n",
    "                return_x.append(reduced_x)\n",
    "                return_y.append(y)\n",
    "        return return_x, return_y\n",
    "\n",
    "\n",
    "    def choose_feature(self, X, Y):\n",
    "        entropy = self.entropy(Y)\n",
    "        best_information_gain = 0.\n",
    "        best_feature = -1\n",
    "        for i in range(len(X[0])):  # For each feature\n",
    "            feature_list = [x[i] for x in X]\n",
    "            values = set(feature_list)\n",
    "            entropy_i = 0.\n",
    "            for value in values:\n",
    "                sub_x, sub_y = self.split_data(X, Y, i, value)\n",
    "                prob = len(sub_x) / float(len(X))\n",
    "                entropy_i += prob * self.entropy(sub_y)\n",
    "            info_gain = entropy - entropy_i\n",
    "            if info_gain > best_information_gain:\n",
    "                best_information_gain = info_gain\n",
    "                best_feature = i\n",
    "        return best_feature\n",
    "\n",
    "\n",
    "    def class_dict(self, Y):\n",
    "        classes = dict()\n",
    "        for y in Y:\n",
    "            if y not in classes:\n",
    "                classes[y] = 0\n",
    "            classes[y] += 1\n",
    "        return classes\n",
    "\n",
    "\n",
    "    def majority(self, Y):\n",
    "        from operator import itemgetter\n",
    "        # Use this function if a leaf cannot be split further and\n",
    "        # ... the node is not pure\n",
    "\n",
    "        classcount = self.class_dict(Y)\n",
    "        sorted_classcount = sorted(classcount.iteritems(), key=itemgetter(1), reverse=True)\n",
    "        return sorted_classcount[0][0]\n",
    "\n",
    "\n",
    "    def build_tree(self, X, Y):\n",
    "        # IF there's only one instance or one class, don't continue to split\n",
    "        if len(Y) <= 1 or len(self.class_dict(Y)) == 1:\n",
    "            return\n",
    "\n",
    "        if len(X[0]) == 1:\n",
    "            return self.majority(Y)   # TODO: Fix this\n",
    "\n",
    "        best_feature = self.choose_feature(X, Y)\n",
    "        if best_feature < 0 or best_feature >= len(X[0]):\n",
    "            return\n",
    "\n",
    "        this_tree = dict()\n",
    "        feature_values = [example[best_feature] for example in X]\n",
    "        unique_values = set(feature_values)\n",
    "        for value in unique_values:\n",
    "            # Build a node with each unique value:\n",
    "            subtree_x, subtree_y = self.split_data(X, Y, best_feature, value)\n",
    "            if best_feature not in this_tree:\n",
    "                this_tree[best_feature] = dict()\n",
    "            if value not in this_tree[best_feature]:\n",
    "                this_tree[best_feature][value] = 0\n",
    "            this_tree[best_feature][value] = self.build_tree(subtree_x, subtree_y)\n",
    "        return this_tree\n",
    "\n",
    "\n",
    "    def fit(self, X, Y):\n",
    "        fitted_tree = self.build_tree(X, Y)\n",
    "        return fitted_tree\n",
    "\n",
    "\n",
    "    def predict(self, X):\n",
    "        pass"
   ]
  },
  {
   "cell_type": "code",
   "execution_count": 47,
   "metadata": {
    "collapsed": true
   },
   "outputs": [],
   "source": [
    "data = pd.read_csv('zoo.csv')\n",
    "X = data.iloc[:,1:-1]\n",
    "y = data.iloc[:,-1]"
   ]
  },
  {
   "cell_type": "code",
   "execution_count": 69,
   "metadata": {},
   "outputs": [
    {
     "data": {
      "text/plain": [
       "{12: {0: {11: {0: {7: {0: None, 1: None}}, 1: {2: {0: None, 1: None}}}},\n",
       "  2: {0: {0: None, 1: None}},\n",
       "  4: {0: {0: {4: {0: None, 1: {5: {0: None, 1: None}}}}, 1: None}},\n",
       "  5: None,\n",
       "  6: {5: {0: None, 1: None}},\n",
       "  8: None}}"
      ]
     },
     "execution_count": 69,
     "metadata": {},
     "output_type": "execute_result"
    }
   ],
   "source": [
    "clf = decision_tree()\n",
    "clf.fit(X.values.tolist(),y.values.tolist())"
   ]
  },
  {
   "cell_type": "code",
   "execution_count": null,
   "metadata": {
    "collapsed": true
   },
   "outputs": [],
   "source": []
  }
 ],
 "metadata": {
  "kernelspec": {
   "display_name": "Python 3",
   "language": "python",
   "name": "python3"
  },
  "language_info": {
   "codemirror_mode": {
    "name": "ipython",
    "version": 3
   },
   "file_extension": ".py",
   "mimetype": "text/x-python",
   "name": "python",
   "nbconvert_exporter": "python",
   "pygments_lexer": "ipython3",
   "version": "3.6.3"
  }
 },
 "nbformat": 4,
 "nbformat_minor": 2
}
